{
 "cells": [
  {
   "cell_type": "code",
   "execution_count": 15,
   "id": "6df304a2",
   "metadata": {},
   "outputs": [
    {
     "name": "stdout",
     "output_type": "stream",
     "text": [
      "Puzzle1:  22357\n"
     ]
    }
   ],
   "source": [
    "# Puzzle 1\n",
    "\n",
    "def get_data(filename):\n",
    "    with open(filename, \"r\") as file:\n",
    "        file = file.readlines()\n",
    "        instr = file[0].strip()\n",
    "        del file[:2]\n",
    "        maps = {}\n",
    "        for node in file:\n",
    "            node = node.strip()\n",
    "            node = node.split(\" = \")\n",
    "            node_name = node[0]\n",
    "            L, R = node[1].split(\", \")\n",
    "            L = L[1:]\n",
    "            R = R[:-1]\n",
    "            maps[node_name] = {\"L\" : L, \"R\" : R}\n",
    "        return instr, maps\n",
    "\n",
    "def run_map(instr, maps, start_node):\n",
    "    current_node = start_node\n",
    "    step = 0\n",
    "    while current_node != \"ZZZ\":\n",
    "        direction = instr[step % len(instr)]\n",
    "        current_node = maps[current_node][direction]\n",
    "        step += 1\n",
    "    return(step)\n",
    "\n",
    "# Main Program\n",
    "\n",
    "instr, maps = get_data(\"Puzzle.txt\")\n",
    "\n",
    "steps = run_map(instr, maps, \"AAA\")\n",
    "print(\"Puzzle1: \", steps)\n"
   ]
  },
  {
   "cell_type": "code",
   "execution_count": 17,
   "id": "89089bf0",
   "metadata": {},
   "outputs": [
    {
     "name": "stdout",
     "output_type": "stream",
     "text": [
      "10371555451871\n"
     ]
    }
   ],
   "source": [
    "# Puzzle 2\n",
    "def find_startnodes(maps):\n",
    "    start_nodes = []\n",
    "    for node in maps:\n",
    "        if node[2] == \"A\":\n",
    "            start_nodes.append(node)\n",
    "    return start_nodes\n",
    "\n",
    "def run_map_ghostmode(instr, maps, start_node):\n",
    "    current_node = start_node\n",
    "    step = 0\n",
    "    while current_node[2] != \"Z\":\n",
    "        direction = instr[step % len(instr)]\n",
    "        current_node = maps[current_node][direction]\n",
    "        step += 1\n",
    "    return(step)\n",
    "\n",
    "# The following two functions to calculate the lcm are taken from the internet :-()\n",
    "def gcd(a, b):\n",
    "    '''Return the greatest common divisor using Euclid's Algorithm.'''\n",
    "    while b:\n",
    "        a, b = b, a % b\n",
    "    return a\n",
    "\n",
    "def lcm(a, b):\n",
    "    '''Return lowest common multiple.'''\n",
    "    return a * b / gcd(a, b)\n",
    "\n",
    "# Main Program\n",
    "\n",
    "instr, maps = get_data(\"Puzzle.txt\")\n",
    "start_nodes = find_startnodes(maps)\n",
    "\n",
    "l_steps = []\n",
    "for node in start_nodes:\n",
    "    step = run_map_ghostmode(instr, maps, node)\n",
    "    l_steps.append(step)\n",
    "\n",
    "tot_steps = 1\n",
    "for steps in l_steps:\n",
    "    tot_steps = lcm(tot_steps, steps)\n",
    "print(int(tot_steps))\n",
    "\n",
    "\n"
   ]
  },
  {
   "cell_type": "code",
   "execution_count": null,
   "id": "4eda4b64",
   "metadata": {},
   "outputs": [],
   "source": []
  }
 ],
 "metadata": {
  "kernelspec": {
   "display_name": "Python 3 (ipykernel)",
   "language": "python",
   "name": "python3"
  },
  "language_info": {
   "codemirror_mode": {
    "name": "ipython",
    "version": 3
   },
   "file_extension": ".py",
   "mimetype": "text/x-python",
   "name": "python",
   "nbconvert_exporter": "python",
   "pygments_lexer": "ipython3",
   "version": "3.10.2"
  }
 },
 "nbformat": 4,
 "nbformat_minor": 5
}
