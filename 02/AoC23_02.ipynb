{
 "cells": [
  {
   "cell_type": "code",
   "execution_count": 83,
   "id": "0ac73db7",
   "metadata": {},
   "outputs": [
    {
     "name": "stdout",
     "output_type": "stream",
     "text": [
      "2476\n",
      "54911\n"
     ]
    }
   ],
   "source": [
    "#puzzle1\n",
    "import re\n",
    "\n",
    "def find_rgb(rgb):\n",
    "    red_n = re.search(\"[0-9]* red\", rgb)\n",
    "    if red_n == None:\n",
    "        red_n = 0\n",
    "    else:\n",
    "        red_n = red_n.group()\n",
    "        red_n = int(red_n[:-4])\n",
    "    \n",
    "    green_n = re.search(\"[0-9]* green\", rgb)\n",
    "    if green_n == None:\n",
    "        green_n = 0\n",
    "    else:\n",
    "        green_n = green_n.group()\n",
    "        green_n = int(green_n[:-6])\n",
    "    \n",
    "    blue_n = re.search(\"[0-9]* blue\", rgb)\n",
    "    if blue_n == None:\n",
    "        blue_n = 0\n",
    "    else:\n",
    "        blue_n = blue_n.group()\n",
    "        blue_n = int(blue_n[:-5])\n",
    "    \n",
    "    return red_n, green_n, blue_n\n",
    "\n",
    "def rgb_ok(rgb_set, rgb_max):\n",
    "    for i in range(3):\n",
    "        if rgb_set[i] > rgb_max[i]:\n",
    "            return False\n",
    "    return True\n",
    "\n",
    "def rgb_sets_ok(rgb_sets, rgb_max):\n",
    "    for rgb_set in rgb_sets:\n",
    "        if not(rgb_ok(rgb_set, rgb_max)):\n",
    "            return False\n",
    "    return True\n",
    "\n",
    "def find_min_rgb(rgb_set):\n",
    "    rgb_min = [0, 0, 0]\n",
    "    for play in rgb_set:\n",
    "        for i in range(3):\n",
    "            if play[i] > rgb_min[i]:\n",
    "                rgb_min[i] = play[i]\n",
    "    power = rgb_min[0] * rgb_min[1] * rgb_min[2]\n",
    "    return power\n",
    "\n",
    "\n",
    "rgb_max = (12, 13, 14)\n",
    "games = {}\n",
    "with open(\"puzzle1.txt\", \"r\") as file:\n",
    "    for line in file:\n",
    "        line = line.strip()\n",
    "        line = line.split(\":\")\n",
    "        game_n = int(line[0][5:])\n",
    "        sets = line[1].split(\";\")\n",
    "        rgb_sets = []\n",
    "        for setx in sets:\n",
    "            rgb_sets.append(find_rgb(setx))\n",
    "        games[game_n] = rgb_sets\n",
    "\n",
    "sum_game = 0    \n",
    "for game_n in games:\n",
    "    if rgb_sets_ok(games[game_n], rgb_max):\n",
    "        sum_game += game_n\n",
    "print(sum_game)\n",
    "\n",
    "sum_power = 0\n",
    "for game_n in games:\n",
    "    sum_power += find_min_rgb(games[game_n])\n",
    "print(sum_power)"
   ]
  },
  {
   "cell_type": "code",
   "execution_count": null,
   "id": "cff5f333",
   "metadata": {},
   "outputs": [],
   "source": []
  }
 ],
 "metadata": {
  "kernelspec": {
   "display_name": "Python 3 (ipykernel)",
   "language": "python",
   "name": "python3"
  },
  "language_info": {
   "codemirror_mode": {
    "name": "ipython",
    "version": 3
   },
   "file_extension": ".py",
   "mimetype": "text/x-python",
   "name": "python",
   "nbconvert_exporter": "python",
   "pygments_lexer": "ipython3",
   "version": "3.10.2"
  }
 },
 "nbformat": 4,
 "nbformat_minor": 5
}
