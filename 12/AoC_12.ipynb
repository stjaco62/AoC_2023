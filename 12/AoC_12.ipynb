{
 "cells": [
  {
   "cell_type": "code",
   "execution_count": 22,
   "id": "0f353749",
   "metadata": {},
   "outputs": [
    {
     "name": "stdout",
     "output_type": "stream",
     "text": [
      "Result: 6555315065024\n"
     ]
    }
   ],
   "source": [
    "# Puzzle 2\n",
    "from functools import cache\n",
    "\n",
    "def get_data(filename):\n",
    "    l_springs = []\n",
    "    with open(filename, \"r\") as file:\n",
    "        for line in file:\n",
    "            line = line.strip()\n",
    "            txt, pattern = line.split(\" \")\n",
    "            # unfold map for puzzle 2\n",
    "            txt = \"?\".join([txt] * 5)\n",
    "            l_ind = pattern.split(\",\")\n",
    "            l_int = []\n",
    "            for i in l_ind:\n",
    "                l_int.append(int(i))\n",
    "            l_int *= 5\n",
    "            l_springs.append((txt, l_int))\n",
    "            \n",
    "    return l_springs\n",
    "\n",
    "def print_l_springs():\n",
    "    global l_springs\n",
    "    for spr in l_springs:\n",
    "        print(spr[0], spr[1])\n",
    "    print()\n",
    "    \n",
    "def is_start_txt(txt, num):\n",
    "    if num > len(txt):\n",
    "        #print(\"Too less chars left\")\n",
    "        return False\n",
    "    # Check, if first num chars are either # or ?\n",
    "    for i in range(num):\n",
    "        if not(txt[i] in [\"#\", \"?\"]):\n",
    "            return False\n",
    "    # Check, if first char after num is either . or ?\n",
    "    if (len(txt) == num):\n",
    "        return True\n",
    "    if not(txt[num] in [\".\", \"?\"]):\n",
    "        return False\n",
    "    return True\n",
    "\n",
    "@cache\n",
    "def slice_txt(txt, l_int):\n",
    "    l_int = list(l_int)\n",
    "    # check if pattern matches are possible\n",
    "    if len(txt) < sum(l_int) + len(l_int) - 1:\n",
    "        return 0\n",
    "    if l_int == [] and \"#\" in txt:\n",
    "        return 0\n",
    "    if l_int == [] and not(\"#\" in txt):\n",
    "        return 1\n",
    "    total = 0\n",
    "    #print(txt, l_int)\n",
    "    if is_start_txt(txt, l_int[0]):\n",
    "        # Pattern matches at the beginning, check if the rest of the patterns match\n",
    "        new_start = l_int[0] + 1\n",
    "        new_txt = txt[new_start:]\n",
    "        new_l_int = l_int[1:]\n",
    "        total += slice_txt(new_txt, tuple(new_l_int))\n",
    "    # In any case, check if the complete patterns match the txt without the first char, if the \n",
    "    # first character is either . or ?\n",
    "    if txt[0] in (\".\",\"?\"):\n",
    "        total += slice_txt(txt[1:], tuple(l_int))\n",
    "    return total\n",
    "   \n",
    "    \n",
    "# Main Program, Part 2\n",
    "l_springs = get_data(\"Puzzle.txt\")\n",
    "#print_l_springs()\n",
    "\n",
    "\n",
    "total = 0\n",
    "for x in l_springs:\n",
    "    txt, l_int = x\n",
    "    total += slice_txt(txt, tuple(l_int))\n",
    "    \n",
    "print(\"Result:\", total)\n",
    "    "
   ]
  },
  {
   "cell_type": "code",
   "execution_count": null,
   "id": "743eb9f9",
   "metadata": {},
   "outputs": [],
   "source": []
  }
 ],
 "metadata": {
  "kernelspec": {
   "display_name": "Python 3 (ipykernel)",
   "language": "python",
   "name": "python3"
  },
  "language_info": {
   "codemirror_mode": {
    "name": "ipython",
    "version": 3
   },
   "file_extension": ".py",
   "mimetype": "text/x-python",
   "name": "python",
   "nbconvert_exporter": "python",
   "pygments_lexer": "ipython3",
   "version": "3.10.2"
  }
 },
 "nbformat": 4,
 "nbformat_minor": 5
}
