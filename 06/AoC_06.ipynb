{
 "cells": [
  {
   "cell_type": "code",
   "execution_count": 21,
   "id": "99b6332a",
   "metadata": {},
   "outputs": [
    {
     "name": "stdout",
     "output_type": "stream",
     "text": [
      "Puzzle1: 2269432\n",
      "Puzzle2: 35865985\n"
     ]
    }
   ],
   "source": [
    "# Puzzle 1\n",
    "def clean_string(x):\n",
    "    x = x.strip()\n",
    "    x = x.split(\":\")\n",
    "    x = x[1].strip()\n",
    "    while \"  \" in x:\n",
    "        x = x.replace(\"  \", \" \")\n",
    "    x = x.split(\" \")\n",
    "    return x\n",
    "    \n",
    "def get_data():\n",
    "    with open(\"Puzzle.txt\", \"r\") as file:\n",
    "        d_races = {}\n",
    "        r = file.readlines()\n",
    "        times = clean_string(r[0])\n",
    "        dists = clean_string(r[1])\n",
    "        d_races = {}\n",
    "        for n in range(len(times)):\n",
    "            d_races[n+1] = (int(times[n]), int(dists[n]))\n",
    "    return d_races\n",
    "\n",
    "def get_data_Puzzle2():\n",
    "    with open(\"Puzzle.txt\", \"r\") as file:\n",
    "        d_races = {}\n",
    "        r = file.readlines()\n",
    "        time = r[0].strip()\n",
    "        time = time.split(\":\")[1]\n",
    "        time = time.replace(\" \", \"\")\n",
    "        time = int(time)\n",
    "        dist = r[1].strip()\n",
    "        dist = dist.split(\":\")[1]\n",
    "        dist = dist.replace(\" \", \"\")\n",
    "        dist = int(dist)\n",
    "    return time, dist\n",
    "\n",
    "def calc_dist(tot_time, chr_time):\n",
    "    speed = chr_time\n",
    "    dist = speed * (tot_time - chr_time)\n",
    "    return dist\n",
    "    \n",
    "def get_l_times(tot_time):\n",
    "    l = []\n",
    "    for chr_time in range(tot_time):\n",
    "        l.append(calc_dist(tot_time, chr_time))\n",
    "    return l\n",
    " \n",
    "    \n",
    "d_races = get_data()\n",
    "\n",
    "final_product = 1\n",
    "for race in d_races:\n",
    "    time = d_races[race][0]\n",
    "    distance_to_beat = d_races[race][1]\n",
    "    l = get_l_times(time)\n",
    "    wins = [x  for x in l if x > distance_to_beat]\n",
    "    final_product *= len(wins)\n",
    "print(\"Puzzle1:\", final_product)\n",
    "\n",
    "\n",
    "time, distance_to_beat = get_data_Puzzle2()\n",
    "l = get_l_times(time)\n",
    "wins = [x  for x in l if x > distance_to_beat]\n",
    "print(\"Puzzle2:\", len(wins))\n",
    "    \n",
    "    \n",
    "    \n",
    "    "
   ]
  },
  {
   "cell_type": "code",
   "execution_count": null,
   "id": "b3bd1e98",
   "metadata": {},
   "outputs": [],
   "source": []
  }
 ],
 "metadata": {
  "kernelspec": {
   "display_name": "Python 3 (ipykernel)",
   "language": "python",
   "name": "python3"
  },
  "language_info": {
   "codemirror_mode": {
    "name": "ipython",
    "version": 3
   },
   "file_extension": ".py",
   "mimetype": "text/x-python",
   "name": "python",
   "nbconvert_exporter": "python",
   "pygments_lexer": "ipython3",
   "version": "3.10.2"
  }
 },
 "nbformat": 4,
 "nbformat_minor": 5
}
