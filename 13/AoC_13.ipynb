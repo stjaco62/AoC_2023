{
 "cells": [
  {
   "cell_type": "code",
   "execution_count": 36,
   "id": "90a81e4a",
   "metadata": {
    "scrolled": false
   },
   "outputs": [
    {
     "name": "stdout",
     "output_type": "stream",
     "text": [
      "Total: 34536\n"
     ]
    }
   ],
   "source": [
    "# Puzzle 1\n",
    "def get_data(filename):\n",
    "    l_pat = []\n",
    "    with open(filename, \"r\") as file:\n",
    "        l_maps = []\n",
    "        maps = []\n",
    "        for line in file:\n",
    "            line = line.strip()\n",
    "            if line == \"\":\n",
    "                l_maps.append(maps)\n",
    "                maps = []\n",
    "            else:\n",
    "                row = []\n",
    "                for char in line:\n",
    "                    row.append(char)\n",
    "                maps.append(row)\n",
    "        l_maps.append(maps)\n",
    "        return l_maps\n",
    "    \n",
    "def print_maps(maps):\n",
    "    for row in maps:\n",
    "        for char in row:\n",
    "            print(char, end = \"\")\n",
    "        print()\n",
    "    print(\"\")        \n",
    "        \n",
    "def travers_matrix(m):\n",
    "    tr_m = []\n",
    "    for col in range(len(m[0])):\n",
    "        new_row = []\n",
    "        for row in m:\n",
    "            new_row.append(row[col])\n",
    "        tr_m.append(new_row)\n",
    "    return tr_m   \n",
    "\n",
    "def required_repairs_for_symmetry(maps, row, col):\n",
    "    repairs = 0\n",
    "    for i in (range(len(maps))):\n",
    "        if ((row + i + 1) >= len(maps) or (row - i) < 0):\n",
    "            return repairs\n",
    "        if maps[row - i][col] != maps[row + 1 + i][col]:\n",
    "            repairs += 1\n",
    "            \n",
    "def required_repairs_for_perfect_reflection(maps, row):\n",
    "    repairs = 0\n",
    "    for col in range(len(maps[0])):\n",
    "        repairs += required_repairs_for_symmetry(maps, row, col)\n",
    "    return repairs\n",
    "\n",
    "def find_perfect_row(maps):\n",
    "    for row in range(len(maps) - 1):\n",
    "        repairs = required_repairs_for_perfect_reflection(maps, row)\n",
    "        if repairs == target:\n",
    "            return row + 1\n",
    "    return -1\n",
    "\n",
    "       \n",
    "# Main program\n",
    "l_maps = get_data(\"Puzzle.txt\")\n",
    "\n",
    "# target is the value to be achieved\n",
    "# target = 0 ==> no repair must be done to find the perfect reflection (Puzzle 1)\n",
    "# target = 1 ==> exactly one repair must be done to find the perfect reflection (Puzzle 2)\n",
    "target = 1\n",
    "\n",
    "total = 0\n",
    "for maps in l_maps:\n",
    "    maps = travers_matrix(maps)\n",
    "    x = find_perfect_row(maps)\n",
    "    if x > 0:\n",
    "        total += x\n",
    "    else:\n",
    "        maps = travers_matrix(maps)\n",
    "        x = find_perfect_row(maps)\n",
    "        total += x * 100\n",
    "        \n",
    "print(\"Total:\", total)\n",
    "\n"
   ]
  },
  {
   "cell_type": "code",
   "execution_count": null,
   "id": "f7022282",
   "metadata": {},
   "outputs": [],
   "source": []
  },
  {
   "cell_type": "code",
   "execution_count": null,
   "id": "8db4692f",
   "metadata": {},
   "outputs": [],
   "source": []
  },
  {
   "cell_type": "code",
   "execution_count": null,
   "id": "d36d0395",
   "metadata": {},
   "outputs": [],
   "source": []
  }
 ],
 "metadata": {
  "kernelspec": {
   "display_name": "Python 3 (ipykernel)",
   "language": "python",
   "name": "python3"
  },
  "language_info": {
   "codemirror_mode": {
    "name": "ipython",
    "version": 3
   },
   "file_extension": ".py",
   "mimetype": "text/x-python",
   "name": "python",
   "nbconvert_exporter": "python",
   "pygments_lexer": "ipython3",
   "version": "3.10.2"
  }
 },
 "nbformat": 4,
 "nbformat_minor": 5
}
