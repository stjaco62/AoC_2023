{
 "cells": [
  {
   "cell_type": "code",
   "execution_count": 29,
   "id": "0a567708",
   "metadata": {},
   "outputs": [
    {
     "name": "stdout",
     "output_type": "stream",
     "text": [
      "Puzzle 1: 1921197370\n",
      "Puzzle 2: 1124\n"
     ]
    }
   ],
   "source": [
    "# Puzzle1 & 2\n",
    "\n",
    "def get_data(filename):\n",
    "    with open(filename, \"r\") as file:\n",
    "        l_l_num = []\n",
    "        for line in file:\n",
    "            line = line.strip()\n",
    "            line = line.split(\" \")\n",
    "            l_num = []\n",
    "            for num in line:\n",
    "                l_num.append(int(num))\n",
    "            l_l_num.append(l_num)\n",
    "    return l_l_num\n",
    "\n",
    "def extrapolate_forward(l):\n",
    "    l_diff = []\n",
    "    for i in range(len(l) - 1):\n",
    "        l_diff.append(l[i + 1] - l[i])\n",
    "    if len(l_diff) > 1:\n",
    "        x = extrapolate_forward(l_diff)\n",
    "        l.append(l[-1] + x)\n",
    "    return l[-1]\n",
    "\n",
    "def extrapolate_backward(l):\n",
    "    l_diff = []\n",
    "    for i in range(len(l) - 1):\n",
    "        l_diff.append(l[i + 1] - l[i])\n",
    "    if len(l_diff) > 1:\n",
    "        x = extrapolate_backward(l_diff)\n",
    "        l.insert(0, l[0] - x)\n",
    "    return l[0]\n",
    "\n",
    "l_l_num = get_data(\"Puzzle.txt\")\n",
    "total = 0\n",
    "for l_num in l_l_num:\n",
    "    total += extrapolate_forward(l_num)\n",
    "print(\"Puzzle 1:\", total)\n",
    "                \n",
    "total = 0   \n",
    "for l_num in l_l_num:\n",
    "    total += extrapolate_backward(l_num)\n",
    "print(\"Puzzle 2:\", total)"
   ]
  },
  {
   "cell_type": "code",
   "execution_count": null,
   "id": "f423b1e8",
   "metadata": {},
   "outputs": [],
   "source": []
  }
 ],
 "metadata": {
  "kernelspec": {
   "display_name": "Python 3 (ipykernel)",
   "language": "python",
   "name": "python3"
  },
  "language_info": {
   "codemirror_mode": {
    "name": "ipython",
    "version": 3
   },
   "file_extension": ".py",
   "mimetype": "text/x-python",
   "name": "python",
   "nbconvert_exporter": "python",
   "pygments_lexer": "ipython3",
   "version": "3.10.2"
  }
 },
 "nbformat": 4,
 "nbformat_minor": 5
}
