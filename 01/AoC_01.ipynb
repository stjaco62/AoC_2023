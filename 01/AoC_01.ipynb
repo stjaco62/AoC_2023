{
 "cells": [
  {
   "cell_type": "code",
   "execution_count": 8,
   "id": "d339fe43",
   "metadata": {},
   "outputs": [
    {
     "name": "stdout",
     "output_type": "stream",
     "text": [
      "56506\n"
     ]
    }
   ],
   "source": [
    "#puzzle 1\n",
    "\n",
    "def find_digit(cal):\n",
    "    for c in cal:\n",
    "        if c.isdigit():\n",
    "            return int(c)\n",
    "        \n",
    "with open(\"puzzle1.txt\", \"r\") as file:\n",
    "    sum_cal = 0\n",
    "    for line in file:\n",
    "        line = line.strip()\n",
    "        x = find_digit(line)\n",
    "        y = find_digit(line[::-1])\n",
    "        sum_cal += 10 * x + y\n",
    "    print(sum_cal)\n"
   ]
  },
  {
   "cell_type": "code",
   "execution_count": 29,
   "id": "89068379",
   "metadata": {},
   "outputs": [
    {
     "name": "stdout",
     "output_type": "stream",
     "text": [
      "56017\n"
     ]
    }
   ],
   "source": [
    "# puzzle 2\n",
    "d_nums = {\"oneight\" : \"18\", \"threeight\" : \"38\", \"fiveight\" : \"58\", \"nineight\" : \"98\",\n",
    "          \"eightwo\" : \"82\", \"nineeight\" : \"98\", \"twone\" : \"21\",\n",
    "          \"one\" : \"1\", \"two\" : \"2\", \"three\" : \"3\", \"four\" : \"4\", \"five\" : \"5\", \n",
    "          \"six\" : \"6\", \"seven\" : \"7\", \"eight\" : \"8\", \"nine\" : \"9\"}\n",
    "\n",
    "def replace_str_by_nums(cal):\n",
    "    for str_num in d_nums:\n",
    "        cal = cal.replace(str_num, d_nums[str_num])\n",
    "    return cal\n",
    "\n",
    "\n",
    "def find_digit(cal):\n",
    "    for c in cal:\n",
    "        if c.isdigit():\n",
    "            return int(c)\n",
    "        \n",
    "\n",
    "with open(\"puzzle1.txt\", \"r\") as file:\n",
    "    sum_cal = 0\n",
    "    for line in file:\n",
    "        line = line.strip()\n",
    "        line = replace_str_by_nums(line)\n",
    "        #print(line)\n",
    "        x = find_digit(line)\n",
    "        y = find_digit(line[::-1])\n",
    "        #print(10 * x + y)\n",
    "        sum_cal += 10 * x + y\n",
    "    print(sum_cal)"
   ]
  }
 ],
 "metadata": {
  "kernelspec": {
   "display_name": "Python 3 (ipykernel)",
   "language": "python",
   "name": "python3"
  },
  "language_info": {
   "codemirror_mode": {
    "name": "ipython",
    "version": 3
   },
   "file_extension": ".py",
   "mimetype": "text/x-python",
   "name": "python",
   "nbconvert_exporter": "python",
   "pygments_lexer": "ipython3",
   "version": "3.10.2"
  }
 },
 "nbformat": 4,
 "nbformat_minor": 5
}
