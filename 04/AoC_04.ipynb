{
 "cells": [
  {
   "cell_type": "code",
   "execution_count": null,
   "id": "bf160882",
   "metadata": {},
   "outputs": [],
   "source": [
    "# puzzle1\n",
    "\n",
    "with open(\"puzzle.txt\", \"r\") as file:\n",
    "    points = 0\n",
    "    count = 1\n",
    "    for line in file:\n",
    "        line = line.strip()\n",
    "        line = line.split(\":\")[1]\n",
    "        line = line.replace(\"  \", \" \")\n",
    "        line = line.split(\"|\")\n",
    "        win_nums = line[0].strip().split(\" \")\n",
    "        own_nums = line[1].strip().split(\" \")\n",
    "        exp = 0\n",
    "        for num in own_nums:\n",
    "            if num in win_nums:\n",
    "                #print(num, end=\" \")\n",
    "                exp += 1\n",
    "        #print()\n",
    "        if exp > 0:\n",
    "            points += 2**(exp-1)\n",
    "    print(\"Points:\", points)\n",
    "        "
   ]
  },
  {
   "cell_type": "code",
   "execution_count": 1,
   "id": "2974d0aa",
   "metadata": {},
   "outputs": [
    {
     "name": "stdout",
     "output_type": "stream",
     "text": [
      "[0, 1, 1, 1, 1, 1, 1, 1, 1, 1, 1, 1, 1, 1, 1, 1, 1, 1, 1, 1, 1, 1, 1, 1, 1, 1, 1, 1, 1, 1, 1, 1, 1, 1, 1, 1, 1, 1, 1, 1, 1, 1, 1, 1, 1, 1, 1, 1, 1, 1, 1, 1, 1, 1, 1, 1, 1, 1, 1, 1, 1, 1, 1, 1, 1, 1, 1, 1, 1, 1, 1, 1, 1, 1, 1, 1, 1, 1, 1, 1, 1, 1, 1, 1, 1, 1, 1, 1, 1, 1, 1, 1, 1, 1, 1, 1, 1, 1, 1, 1, 1, 1, 1, 1, 1, 1, 1, 1, 1, 1, 1, 1, 1, 1, 1, 1, 1, 1, 1, 1, 1, 1, 1, 1, 1, 1, 1, 1, 1, 1, 1, 1, 1, 1, 1, 1, 1, 1, 1, 1, 1, 1, 1, 1, 1, 1, 1, 1, 1, 1, 1, 1, 1, 1, 1, 1, 1, 1, 1, 1, 1, 1, 1, 1, 1, 1, 1, 1, 1, 1, 1, 1, 1, 1, 1, 1, 1, 1, 1, 1, 1, 1, 1, 1, 1, 1, 1, 1, 1, 1, 1, 1, 1, 1, 1, 1, 1, 1, 1, 1, 1, 1, 1, 1, 1]\n",
      "Num of cards: 5744979\n"
     ]
    }
   ],
   "source": [
    "# puzzle 2\n",
    "\n",
    "with open(\"puzzle.txt\", \"r\") as file:\n",
    "    l_cards = []\n",
    "    l_c = []\n",
    "    for line in file:\n",
    "        l_cards.append(line)\n",
    "    for ind in range(len(l_cards)):\n",
    "        l_c.append(1)\n",
    "    l_c.insert(0, 0)\n",
    "    print(l_c)\n",
    "    cd_num = 1\n",
    "    for line in l_cards:\n",
    "        line = line.strip()\n",
    "        line = line.split(\":\")[1]\n",
    "        line = line.replace(\"  \", \" \")\n",
    "        line = line.split(\"|\")\n",
    "        win_nums = line[0].strip().split(\" \")\n",
    "        own_nums = line[1].strip().split(\" \")\n",
    "        wins = 0\n",
    "        for num in own_nums:\n",
    "            if num in win_nums:\n",
    "                wins += 1\n",
    "        #print(wins)\n",
    "        for ind in range(cd_num + 1, cd_num + 1 + wins):\n",
    "            l_c[ind] += l_c[cd_num]\n",
    "        cd_num += 1\n",
    "        #print(l_c)\n",
    "    print(\"Num of cards:\", sum(l_c))\n",
    "            \n",
    "        \n",
    "        "
   ]
  },
  {
   "cell_type": "code",
   "execution_count": null,
   "id": "0b4e5488",
   "metadata": {},
   "outputs": [],
   "source": []
  }
 ],
 "metadata": {
  "kernelspec": {
   "display_name": "Python 3 (ipykernel)",
   "language": "python",
   "name": "python3"
  },
  "language_info": {
   "codemirror_mode": {
    "name": "ipython",
    "version": 3
   },
   "file_extension": ".py",
   "mimetype": "text/x-python",
   "name": "python",
   "nbconvert_exporter": "python",
   "pygments_lexer": "ipython3",
   "version": "3.10.2"
  }
 },
 "nbformat": 4,
 "nbformat_minor": 5
}
