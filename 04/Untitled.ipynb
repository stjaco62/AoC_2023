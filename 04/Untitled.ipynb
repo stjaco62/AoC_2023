{
 "cells": [
  {
   "cell_type": "code",
   "execution_count": null,
   "id": "76ca2af0",
   "metadata": {},
   "outputs": [],
   "source": [
    "# puzzle1\n",
    "\n",
    "with open(\"test.txt\", \"r\") as file:\n",
    "    for line in file:\n",
    "        line = line.strip()\n",
    "        line = line.split(\":\")[1]"
   ]
  }
 ],
 "metadata": {
  "kernelspec": {
   "display_name": "Python 3 (ipykernel)",
   "language": "python",
   "name": "python3"
  },
  "language_info": {
   "codemirror_mode": {
    "name": "ipython",
    "version": 3
   },
   "file_extension": ".py",
   "mimetype": "text/x-python",
   "name": "python",
   "nbconvert_exporter": "python",
   "pygments_lexer": "ipython3",
   "version": "3.10.2"
  }
 },
 "nbformat": 4,
 "nbformat_minor": 5
}
