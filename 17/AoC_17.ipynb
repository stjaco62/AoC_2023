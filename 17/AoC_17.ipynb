{
 "cells": [
  {
   "cell_type": "code",
   "execution_count": 89,
   "id": "afdb8dd9",
   "metadata": {},
   "outputs": [
    {
     "name": "stdout",
     "output_type": "stream",
     "text": [
      "139 139\n",
      "DiGraph with 39762 nodes and 529032 edges\n",
      "1347\n",
      "1353\n",
      "1357\n",
      "1347\n"
     ]
    }
   ],
   "source": [
    "# Advent of Code, Day 17\n",
    "import networkx as nx\n",
    "\n",
    "def get_data(filename):\n",
    "    lab = []\n",
    "    with open(filename, \"r\") as file:\n",
    "        for line in file:\n",
    "            line = line.strip()\n",
    "            row = []\n",
    "            for char in line:\n",
    "                char = int(char)\n",
    "                row.append(char)\n",
    "            lab.append(row)\n",
    "    return lab\n",
    "\n",
    "def create_graph(lab):\n",
    "    global min_path\n",
    "    global max_path\n",
    "    G = nx.DiGraph()\n",
    "    # Create horizontal connections\n",
    "    for row_ind, row in enumerate(lab):\n",
    "        for col_ind, col in enumerate(row):\n",
    "            for i in range(min_path, max_path + 1):\n",
    "                if col_ind + i < len(lab[0]):\n",
    "                    path_len = sum(row[col_ind + 1:col_ind + i + 1])\n",
    "                    path_len2 = sum(row[col_ind:col_ind + i])\n",
    "                    G.add_edge((row_ind, col_ind, \"h\"), (row_ind, col_ind + i, \"v\"), weight = path_len)\n",
    "                    G.add_edge((row_ind, col_ind + i, \"h\"), (row_ind, col_ind, \"v\"), weight = path_len2)\n",
    "\n",
    "    # Create vertical connections\n",
    "    for col_ind, col in enumerate(lab[0]):\n",
    "        for row_ind, row in enumerate(lab):\n",
    "            for i in range(min_path, max_path + 1):\n",
    "                if row_ind + i < len(lab):\n",
    "                    path_len = 0\n",
    "                    for j in range(i):\n",
    "                        path_len += lab[row_ind + j + 1][col_ind]\n",
    "                    path_len2 = 0\n",
    "                    for j in range(i):\n",
    "                        path_len2 += lab[row_ind + j][col_ind]\n",
    "                    G.add_edge((row_ind, col_ind, \"v\"), (row_ind + i, col_ind, \"h\"), weight = path_len)\n",
    "                    G.add_edge((row_ind + i, col_ind, \"v\"), (row_ind, col_ind, \"h\"), weight = path_len2)\n",
    "                    \n",
    "    return G\n",
    "    \n",
    "# Main Program\n",
    "lab = get_data(\"Puzzle.txt\")\n",
    "starting_point = (0, 0)\n",
    "endpoint_row = len(lab) - 1\n",
    "endpoint_col = len(lab[0]) - 1\n",
    "print(end_point_row - 1, end_point_col - 1)\n",
    "min_path = 4\n",
    "max_path = 10\n",
    "\n",
    "\n",
    "G = create_graph(lab)\n",
    "print(G)\n",
    "G.add_edge((0, 0), (0, 0, \"h\"), weight = 0)\n",
    "G.add_edge((0, 0), (0, 0, \"v\"), weight = 0)\n",
    "\n",
    "#for edge in G.edges.data():\n",
    "#    print(edge)\n",
    "print(nx.shortest_path_length(G, (0, 0, \"h\"), (endpoint_row, endpoint_col, \"h\"), weight = \"weight\"))\n",
    "print(nx.shortest_path_length(G, (0, 0, \"h\"), (endpoint_row, endpoint_col, \"v\"), weight = \"weight\"))\n",
    "print(nx.shortest_path_length(G, (0, 0, \"v\"), (endpoint_row, endpoint_col, \"h\"), weight = \"weight\"))\n",
    "print(nx.shortest_path_length(G, (0, 0, \"v\"), (endpoint_row, endpoint_col, \"v\"), weight = \"weight\"))\n",
    "\n",
    "             \n"
   ]
  },
  {
   "cell_type": "code",
   "execution_count": null,
   "id": "42c8b039",
   "metadata": {},
   "outputs": [],
   "source": []
  }
 ],
 "metadata": {
  "kernelspec": {
   "display_name": "Python 3 (ipykernel)",
   "language": "python",
   "name": "python3"
  },
  "language_info": {
   "codemirror_mode": {
    "name": "ipython",
    "version": 3
   },
   "file_extension": ".py",
   "mimetype": "text/x-python",
   "name": "python",
   "nbconvert_exporter": "python",
   "pygments_lexer": "ipython3",
   "version": "3.10.2"
  }
 },
 "nbformat": 4,
 "nbformat_minor": 5
}
