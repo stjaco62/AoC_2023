{
 "cells": [
  {
   "cell_type": "code",
   "execution_count": 28,
   "id": "b0610f4f",
   "metadata": {},
   "outputs": [
    {
     "name": "stdout",
     "output_type": "stream",
     "text": [
      "2\n"
     ]
    }
   ],
   "source": [
    "# Puzzle 1\n",
    "from itertools import combinations\n",
    "\n",
    "def get_data(filename):\n",
    "    l_hailstones = []\n",
    "    with open(filename, \"r\") as file:\n",
    "        for line in file:\n",
    "            line = line.strip()\n",
    "            line = line.replace(\" @ \", \", \")\n",
    "            line = line.split(\", \")\n",
    "            line = [int(x) for x in line]\n",
    "            l_hailstones.append(line)\n",
    "    return l_hailstones \n",
    "\n",
    "def get_params(l_hailstones):\n",
    "    l_params = []\n",
    "    for stone in l_hailstones:\n",
    "        x, y, z, vx, vy, vz = stone\n",
    "        gradient = vy / vx\n",
    "        intercept = y - x * gradient\n",
    "        stone.append(gradient)\n",
    "        stone.append(intercept)\n",
    "        l_params.append(stone)\n",
    "    return l_params\n",
    "\n",
    "def get_intersection(l_params, min_border, max_border):\n",
    "    total_intersections = 0\n",
    "    for points in list(combinations(l_params, 2)):\n",
    "        p1, p2 = points\n",
    "        #print(p1)\n",
    "        #print(p2)\n",
    "        x1, y1, z1, vx1, vy1, vz1, grad1, interc1 = p1\n",
    "        x2, y2, z2, vx2, vy2, vz2, grad2, interc2 = p2\n",
    "        if grad1 == grad2:\n",
    "            pass\n",
    "            #print(\"Parallel\")\n",
    "        else:\n",
    "            x = (interc2 - interc1) / (grad1 - grad2)\n",
    "            y = x * grad1 + interc1\n",
    "            if (x1 > x and vx1 > 0) or (x1 < x and vx1 < 0):\n",
    "                pass\n",
    "                #print(\"Intersection for P1 in the past.\", x, y)\n",
    "            elif (x2 > x and vx2 > 0) or (x2 < x and vx2 < 0):\n",
    "                pass\n",
    "                #print(\"Intersection for P2 in the past.\", x, y)\n",
    "            elif not((min_border < x < max_border) and (min_border < y < max_border)): # Check Test Area\n",
    "                pass\n",
    "                #print(\"Intersection outside test area at\", x, y)\n",
    "            else:\n",
    "                total_intersections += 1\n",
    "                #print(\"Intersection at\", x, y)\n",
    "    print(total_intersections)\n",
    "        \n",
    "\n",
    "\n",
    "        \n",
    "        \n",
    "        \n",
    "# Main Program Puzzle 1\n",
    "min_border = 7\n",
    "max_border = 27\n",
    "#min_border = 200000000000000\n",
    "#max_border = 400000000000000\n",
    "l_hailstones = get_data(\"Test.txt\")\n",
    "l_params = get_params(l_hailstones)\n",
    "get_intersection(l_params, min_border, max_border)\n",
    "        \n",
    "        \n"
   ]
  },
  {
   "cell_type": "markdown",
   "id": "a5355877",
   "metadata": {},
   "source": [
    "## Puzzle 2:\n",
    "Too big to brute force, too challenging to completely try it on my own. --> Had a look into reddit and\n",
    "adapted the solution by MarcoDelmastro to be found at [github](https://github.com/marcodelmastro/AdventOfCode2023/blob/main/Day24.ipynb). At least I (nearly) understood the solution ... Requires the library [sympy](https://www.sympy.org/en/index.html) to do symbolic solving of equations."
   ]
  },
  {
   "cell_type": "code",
   "execution_count": 38,
   "id": "8d1cebd7",
   "metadata": {},
   "outputs": [
    {
     "name": "stdout",
     "output_type": "stream",
     "text": [
      "{vx: 139, vy: -93, vz: 245, x: 191146615936494, y: 342596108503183, z: 131079628110881}\n"
     ]
    },
    {
     "data": {
      "text/latex": [
       "$\\displaystyle 664822352550558$"
      ],
      "text/plain": [
       "664822352550558"
      ]
     },
     "execution_count": 38,
     "metadata": {},
     "output_type": "execute_result"
    }
   ],
   "source": [
    "# Puzzle2\n",
    "from sympy import symbols, solve\n",
    "\n",
    "def get_data(filename):\n",
    "    l_hailstones = []\n",
    "    with open(filename, \"r\") as file:\n",
    "        for line in file:\n",
    "            line = line.strip()\n",
    "            line = line.replace(\" @ \", \", \")\n",
    "            line = line.split(\", \")\n",
    "            line = [int(x) for x in line]\n",
    "            l_hailstones.append(line)\n",
    "    return l_hailstones \n",
    "\n",
    "def solve_puzzle(l_hailstones):\n",
    "    # Define variables for symbolic mathmatics\n",
    "    x = symbols('x')\n",
    "    y = symbols('y')\n",
    "    z = symbols('z')\n",
    "    vx = symbols('vx')\n",
    "    vy = symbols('vy')\n",
    "    vz = symbols('vz')\n",
    "\n",
    "    # get constants from the first three hailstones\n",
    "    x1, y1, z1, vx1, vy1, vz1 = l_hailstones[0]\n",
    "    x2, y2, z2, vx2, vy2, vz2 = l_hailstones[1]\n",
    "    x3, y3, z3, vx3, vy3, vz3 = l_hailstones[2]\n",
    "    \n",
    "    # define six equations for six variables. Le\n",
    "    sols = solve(\n",
    "        [(x-x1)*(vy-vy1)-(y-y1)*(vx-vx1), (y-y1)*(vz-vz1)-(z-z1)*(vy-vy1), \n",
    "         (x-x2)*(vy-vy2)-(y-y2)*(vx-vx2), (y-y2)*(vz-vz2)-(z-z2)*(vy-vy2), \n",
    "         (x-x3)*(vy-vy3)-(y-y3)*(vx-vx3), (y-y3)*(vz-vz3)-(z-z3)*(vy-vy3) ] ,\n",
    "            [x, y, z, vx, vy, vz], dict=True)\n",
    "\n",
    "    # select solution with integer speed components\n",
    "    for s in sols:\n",
    "        if s[vx]==int(s[vx]) and s[vy]==int(s[vy]) and s[vz]==int(s[vz]):\n",
    "            print(s)\n",
    "            break\n",
    "    return s[x]+s[y]+s[z]\n",
    "\n",
    "l_hailstones = get_data(\"Puzzle.txt\")\n",
    "solve_puzzle(l_hailstones)"
   ]
  },
  {
   "cell_type": "code",
   "execution_count": null,
   "id": "bc4b00dd",
   "metadata": {},
   "outputs": [],
   "source": []
  }
 ],
 "metadata": {
  "kernelspec": {
   "display_name": "Python 3 (ipykernel)",
   "language": "python",
   "name": "python3"
  },
  "language_info": {
   "codemirror_mode": {
    "name": "ipython",
    "version": 3
   },
   "file_extension": ".py",
   "mimetype": "text/x-python",
   "name": "python",
   "nbconvert_exporter": "python",
   "pygments_lexer": "ipython3",
   "version": "3.10.2"
  }
 },
 "nbformat": 4,
 "nbformat_minor": 5
}
