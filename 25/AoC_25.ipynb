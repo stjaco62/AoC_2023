{
 "cells": [
  {
   "cell_type": "code",
   "execution_count": 19,
   "id": "bde4fb24",
   "metadata": {},
   "outputs": [
    {
     "name": "stdout",
     "output_type": "stream",
     "text": [
      "601310\n"
     ]
    }
   ],
   "source": [
    "# AoC 2023, Day 25, Solution using networkx\n",
    "\n",
    "import networkx as nx\n",
    "\n",
    "def get_data(filename):\n",
    "    d_components = {}\n",
    "    with open(filename, \"r\") as file:\n",
    "        for line in file:\n",
    "            line = line.strip()\n",
    "            component, connected = line.split(\": \")\n",
    "            l_connected = connected.split(\" \")\n",
    "            d_components[component] = l_connected\n",
    "    return d_components\n",
    "\n",
    "def create_graph(d_components):\n",
    "    G = nx.Graph()\n",
    "    for comp in d_components:\n",
    "        for connected in d_components[comp]:\n",
    "            G.add_edge(comp, connected)\n",
    "    return G\n",
    "\n",
    "def exec_test(G):\n",
    "    G.remove_edge(\"hfx\", \"pzl\")\n",
    "    G.remove_edge(\"bvb\", \"cmg\")\n",
    "    G.remove_edge(\"nvd\", \"jqt\")\n",
    "    return G\n",
    "\n",
    "def cut_graph(G):\n",
    "    l = list(nx.minimum_edge_cut(G))\n",
    "    for edge in l:\n",
    "        s, v = edge\n",
    "        G.remove_edge(s, v)\n",
    "    return G\n",
    "\n",
    "# Main Program\n",
    "d_components = get_data(\"Puzzle.txt\")\n",
    "G = create_graph(d_components)\n",
    "#print(G)\n",
    "#G = exec_test(G)\n",
    "G = cut_graph(G)\n",
    "\n",
    "l = list(nx.connected_components(G))\n",
    "print(len(l[0]) * len(l[1]))\n",
    "\n"
   ]
  },
  {
   "cell_type": "code",
   "execution_count": null,
   "id": "4b8b6e11",
   "metadata": {},
   "outputs": [],
   "source": []
  }
 ],
 "metadata": {
  "kernelspec": {
   "display_name": "Python 3 (ipykernel)",
   "language": "python",
   "name": "python3"
  },
  "language_info": {
   "codemirror_mode": {
    "name": "ipython",
    "version": 3
   },
   "file_extension": ".py",
   "mimetype": "text/x-python",
   "name": "python",
   "nbconvert_exporter": "python",
   "pygments_lexer": "ipython3",
   "version": "3.10.2"
  }
 },
 "nbformat": 4,
 "nbformat_minor": 5
}
